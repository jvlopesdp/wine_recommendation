{
 "cells": [
  {
   "cell_type": "code",
   "execution_count": 26,
   "metadata": {},
   "outputs": [],
   "source": [
    "import pandas as pd\n",
    "import numpy as np\n",
    "import os\n",
    "import matplotlib.pyplot as plt\n",
    "import seaborn as sns\n",
    "\n",
    "# Configurando estilos\n",
    "sns.set(style=\"whitegrid\")\n",
    "plt.rcParams['font.size'] = 14\n",
    "plt.rcParams['axes.labelsize'] = 14\n",
    "plt.rcParams['axes.titlesize'] = 16\n",
    "plt.rcParams['xtick.labelsize'] = 12\n",
    "plt.rcParams['ytick.labelsize'] = 12"
   ]
  },
  {
   "cell_type": "code",
   "execution_count": 2,
   "metadata": {},
   "outputs": [],
   "source": [
    "directory = '..\\\\data\\\\processed'\n",
    "parquet_file = [file for file in os.listdir(directory) if file.endswith('.parquet')][0]"
   ]
  },
  {
   "cell_type": "code",
   "execution_count": 3,
   "metadata": {},
   "outputs": [
    {
     "name": "stdout",
     "output_type": "stream",
     "text": [
      "..\\data\\processed\\concatenated_dfs.parquet\n"
     ]
    }
   ],
   "source": [
    "parquet_dir = os.path.join(directory, parquet_file)\n",
    "print(parquet_dir)"
   ]
  },
  {
   "cell_type": "code",
   "execution_count": 4,
   "metadata": {},
   "outputs": [],
   "source": [
    "df = pd.read_parquet(parquet_dir)"
   ]
  },
  {
   "cell_type": "markdown",
   "metadata": {},
   "source": [
    "# Objetivos da análise\n",
    "\n",
    "## 1 Ver condição dos dados:\n",
    "1. Nulos e faltantes - Done\n",
    "1. Tipo dos dados - Done"
   ]
  },
  {
   "cell_type": "markdown",
   "metadata": {},
   "source": [
    "# 1. Condição dos dados\n",
    "## Nulos e faltantes"
   ]
  },
  {
   "cell_type": "code",
   "execution_count": 5,
   "metadata": {},
   "outputs": [
    {
     "data": {
      "text/html": [
       "<div>\n",
       "<style scoped>\n",
       "    .dataframe tbody tr th:only-of-type {\n",
       "        vertical-align: middle;\n",
       "    }\n",
       "\n",
       "    .dataframe tbody tr th {\n",
       "        vertical-align: top;\n",
       "    }\n",
       "\n",
       "    .dataframe thead th {\n",
       "        text-align: right;\n",
       "    }\n",
       "</style>\n",
       "<table border=\"1\" class=\"dataframe\">\n",
       "  <thead>\n",
       "    <tr style=\"text-align: right;\">\n",
       "      <th></th>\n",
       "      <th>country</th>\n",
       "      <th>description</th>\n",
       "      <th>designation</th>\n",
       "      <th>points</th>\n",
       "      <th>price</th>\n",
       "      <th>province</th>\n",
       "      <th>region_1</th>\n",
       "      <th>region_2</th>\n",
       "      <th>taster_name</th>\n",
       "      <th>taster_twitter_handle</th>\n",
       "      <th>title</th>\n",
       "      <th>variety</th>\n",
       "      <th>winery</th>\n",
       "    </tr>\n",
       "  </thead>\n",
       "  <tbody>\n",
       "    <tr>\n",
       "      <th>0</th>\n",
       "      <td>Italy</td>\n",
       "      <td>Aromas include tropical fruit, broom, brimston...</td>\n",
       "      <td>Vulkà Bianco</td>\n",
       "      <td>87</td>\n",
       "      <td>NaN</td>\n",
       "      <td>Sicily &amp; Sardinia</td>\n",
       "      <td>Etna</td>\n",
       "      <td>None</td>\n",
       "      <td>Kerin O’Keefe</td>\n",
       "      <td>@kerinokeefe</td>\n",
       "      <td>Nicosia 2013 Vulkà Bianco  (Etna)</td>\n",
       "      <td>White Blend</td>\n",
       "      <td>Nicosia</td>\n",
       "    </tr>\n",
       "    <tr>\n",
       "      <th>1</th>\n",
       "      <td>Portugal</td>\n",
       "      <td>This is ripe and fruity, a wine that is smooth...</td>\n",
       "      <td>Avidagos</td>\n",
       "      <td>87</td>\n",
       "      <td>15.0</td>\n",
       "      <td>Douro</td>\n",
       "      <td>None</td>\n",
       "      <td>None</td>\n",
       "      <td>Roger Voss</td>\n",
       "      <td>@vossroger</td>\n",
       "      <td>Quinta dos Avidagos 2011 Avidagos Red (Douro)</td>\n",
       "      <td>Portuguese Red</td>\n",
       "      <td>Quinta dos Avidagos</td>\n",
       "    </tr>\n",
       "    <tr>\n",
       "      <th>2</th>\n",
       "      <td>US</td>\n",
       "      <td>Tart and snappy, the flavors of lime flesh and...</td>\n",
       "      <td>None</td>\n",
       "      <td>87</td>\n",
       "      <td>14.0</td>\n",
       "      <td>Oregon</td>\n",
       "      <td>Willamette Valley</td>\n",
       "      <td>Willamette Valley</td>\n",
       "      <td>Paul Gregutt</td>\n",
       "      <td>@paulgwine</td>\n",
       "      <td>Rainstorm 2013 Pinot Gris (Willamette Valley)</td>\n",
       "      <td>Pinot Gris</td>\n",
       "      <td>Rainstorm</td>\n",
       "    </tr>\n",
       "    <tr>\n",
       "      <th>3</th>\n",
       "      <td>US</td>\n",
       "      <td>Pineapple rind, lemon pith and orange blossom ...</td>\n",
       "      <td>Reserve Late Harvest</td>\n",
       "      <td>87</td>\n",
       "      <td>13.0</td>\n",
       "      <td>Michigan</td>\n",
       "      <td>Lake Michigan Shore</td>\n",
       "      <td>None</td>\n",
       "      <td>Alexander Peartree</td>\n",
       "      <td>None</td>\n",
       "      <td>St. Julian 2013 Reserve Late Harvest Riesling ...</td>\n",
       "      <td>Riesling</td>\n",
       "      <td>St. Julian</td>\n",
       "    </tr>\n",
       "    <tr>\n",
       "      <th>4</th>\n",
       "      <td>US</td>\n",
       "      <td>Much like the regular bottling from 2012, this...</td>\n",
       "      <td>Vintner's Reserve Wild Child Block</td>\n",
       "      <td>87</td>\n",
       "      <td>65.0</td>\n",
       "      <td>Oregon</td>\n",
       "      <td>Willamette Valley</td>\n",
       "      <td>Willamette Valley</td>\n",
       "      <td>Paul Gregutt</td>\n",
       "      <td>@paulgwine</td>\n",
       "      <td>Sweet Cheeks 2012 Vintner's Reserve Wild Child...</td>\n",
       "      <td>Pinot Noir</td>\n",
       "      <td>Sweet Cheeks</td>\n",
       "    </tr>\n",
       "  </tbody>\n",
       "</table>\n",
       "</div>"
      ],
      "text/plain": [
       "    country                                        description  \\\n",
       "0     Italy  Aromas include tropical fruit, broom, brimston...   \n",
       "1  Portugal  This is ripe and fruity, a wine that is smooth...   \n",
       "2        US  Tart and snappy, the flavors of lime flesh and...   \n",
       "3        US  Pineapple rind, lemon pith and orange blossom ...   \n",
       "4        US  Much like the regular bottling from 2012, this...   \n",
       "\n",
       "                          designation  points  price           province  \\\n",
       "0                        Vulkà Bianco      87    NaN  Sicily & Sardinia   \n",
       "1                            Avidagos      87   15.0              Douro   \n",
       "2                                None      87   14.0             Oregon   \n",
       "3                Reserve Late Harvest      87   13.0           Michigan   \n",
       "4  Vintner's Reserve Wild Child Block      87   65.0             Oregon   \n",
       "\n",
       "              region_1           region_2         taster_name  \\\n",
       "0                 Etna               None       Kerin O’Keefe   \n",
       "1                 None               None          Roger Voss   \n",
       "2    Willamette Valley  Willamette Valley        Paul Gregutt   \n",
       "3  Lake Michigan Shore               None  Alexander Peartree   \n",
       "4    Willamette Valley  Willamette Valley        Paul Gregutt   \n",
       "\n",
       "  taster_twitter_handle                                              title  \\\n",
       "0          @kerinokeefe                  Nicosia 2013 Vulkà Bianco  (Etna)   \n",
       "1            @vossroger      Quinta dos Avidagos 2011 Avidagos Red (Douro)   \n",
       "2           @paulgwine       Rainstorm 2013 Pinot Gris (Willamette Valley)   \n",
       "3                  None  St. Julian 2013 Reserve Late Harvest Riesling ...   \n",
       "4           @paulgwine   Sweet Cheeks 2012 Vintner's Reserve Wild Child...   \n",
       "\n",
       "          variety               winery  \n",
       "0     White Blend              Nicosia  \n",
       "1  Portuguese Red  Quinta dos Avidagos  \n",
       "2      Pinot Gris            Rainstorm  \n",
       "3        Riesling           St. Julian  \n",
       "4      Pinot Noir         Sweet Cheeks  "
      ]
     },
     "execution_count": 5,
     "metadata": {},
     "output_type": "execute_result"
    }
   ],
   "source": [
    "df.head(5)"
   ]
  },
  {
   "cell_type": "code",
   "execution_count": 6,
   "metadata": {},
   "outputs": [
    {
     "name": "stdout",
     "output_type": "stream",
     "text": [
      "Column name: country has 0.02% of NaN values\n",
      "Column name: description has 0.0% of NaN values\n",
      "Column name: designation has 29.62% of NaN values\n",
      "Column name: points has 0.0% of NaN values\n",
      "Column name: price has 8.08% of NaN values\n",
      "Column name: province has 0.02% of NaN values\n",
      "Column name: region_1 has 16.49% of NaN values\n",
      "Column name: region_2 has 60.32% of NaN values\n",
      "Column name: taster_name has 63.07% of NaN values\n",
      "Column name: taster_twitter_handle has 64.84% of NaN values\n",
      "Column name: title has 53.73% of NaN values\n",
      "Column name: variety has 0.0% of NaN values\n",
      "Column name: winery has 0.0% of NaN values\n"
     ]
    }
   ],
   "source": [
    "for column in df.columns:\n",
    "    nan_rows = round((df[column].isna().sum()/df.shape[0])*100,2).astype(str)+'%' # type: ignore\n",
    "    print(f\"Column name: {column} has {nan_rows} of NaN values\")"
   ]
  },
  {
   "cell_type": "markdown",
   "metadata": {},
   "source": [
    "#### Checking data integrity\n",
    "* Is there any difference between region_1 and region_2 values? - Done\n",
    "* Rows with no price have at least values of variety or title for later input and treatment? - Done\n",
    "* The number of taster_name that is NaN came from the 150k dataset? - Useless information, probably we won't be using at the recommendation system\n",
    "* Which rows has title blank? There is any other information from there? - Done"
   ]
  },
  {
   "cell_type": "markdown",
   "metadata": {},
   "source": [
    "##### Difference between region_1 and region_2"
   ]
  },
  {
   "cell_type": "code",
   "execution_count": 14,
   "metadata": {},
   "outputs": [
    {
     "name": "stdout",
     "output_type": "stream",
     "text": [
      "Region 1 has 1332 unique values\n",
      "Region 2 has 18 unique values\n"
     ]
    }
   ],
   "source": [
    "print(f\"Region 1 has {df.region_1.nunique()} unique values\")\n",
    "print(f\"Region 2 has {df.region_2.nunique()} unique values\")"
   ]
  },
  {
   "cell_type": "code",
   "execution_count": 9,
   "metadata": {},
   "outputs": [
    {
     "data": {
      "text/plain": [
       "111464"
      ]
     },
     "execution_count": 9,
     "metadata": {},
     "output_type": "execute_result"
    }
   ],
   "source": [
    "df[~df['region_2'].isna()].shape[0]"
   ]
  },
  {
   "cell_type": "code",
   "execution_count": 13,
   "metadata": {},
   "outputs": [
    {
     "data": {
      "text/html": [
       "<div>\n",
       "<style scoped>\n",
       "    .dataframe tbody tr th:only-of-type {\n",
       "        vertical-align: middle;\n",
       "    }\n",
       "\n",
       "    .dataframe tbody tr th {\n",
       "        vertical-align: top;\n",
       "    }\n",
       "\n",
       "    .dataframe thead th {\n",
       "        text-align: right;\n",
       "    }\n",
       "</style>\n",
       "<table border=\"1\" class=\"dataframe\">\n",
       "  <thead>\n",
       "    <tr style=\"text-align: right;\">\n",
       "      <th></th>\n",
       "      <th>region_1</th>\n",
       "      <th>region_2</th>\n",
       "    </tr>\n",
       "  </thead>\n",
       "  <tbody>\n",
       "    <tr>\n",
       "      <th>10</th>\n",
       "      <td>Napa Valley</td>\n",
       "      <td>Napa</td>\n",
       "    </tr>\n",
       "    <tr>\n",
       "      <th>12</th>\n",
       "      <td>Alexander Valley</td>\n",
       "      <td>Sonoma</td>\n",
       "    </tr>\n",
       "    <tr>\n",
       "      <th>21</th>\n",
       "      <td>Oregon</td>\n",
       "      <td>Oregon Other</td>\n",
       "    </tr>\n",
       "    <tr>\n",
       "      <th>23</th>\n",
       "      <td>Paso Robles</td>\n",
       "      <td>Central Coast</td>\n",
       "    </tr>\n",
       "    <tr>\n",
       "      <th>25</th>\n",
       "      <td>Sonoma Coast</td>\n",
       "      <td>Sonoma</td>\n",
       "    </tr>\n",
       "    <tr>\n",
       "      <th>...</th>\n",
       "      <td>...</td>\n",
       "      <td>...</td>\n",
       "    </tr>\n",
       "    <tr>\n",
       "      <th>280860</th>\n",
       "      <td>Santa Ynez Valley</td>\n",
       "      <td>Central Coast</td>\n",
       "    </tr>\n",
       "    <tr>\n",
       "      <th>280863</th>\n",
       "      <td>California</td>\n",
       "      <td>California Other</td>\n",
       "    </tr>\n",
       "    <tr>\n",
       "      <th>280867</th>\n",
       "      <td>California</td>\n",
       "      <td>California Other</td>\n",
       "    </tr>\n",
       "    <tr>\n",
       "      <th>280885</th>\n",
       "      <td>Anderson Valley</td>\n",
       "      <td>Mendocino/Lake Counties</td>\n",
       "    </tr>\n",
       "    <tr>\n",
       "      <th>280887</th>\n",
       "      <td>Napa Valley</td>\n",
       "      <td>Napa</td>\n",
       "    </tr>\n",
       "  </tbody>\n",
       "</table>\n",
       "<p>100893 rows × 2 columns</p>\n",
       "</div>"
      ],
      "text/plain": [
       "                 region_1                 region_2\n",
       "10            Napa Valley                     Napa\n",
       "12       Alexander Valley                   Sonoma\n",
       "21                 Oregon             Oregon Other\n",
       "23            Paso Robles            Central Coast\n",
       "25           Sonoma Coast                   Sonoma\n",
       "...                   ...                      ...\n",
       "280860  Santa Ynez Valley            Central Coast\n",
       "280863         California         California Other\n",
       "280867         California         California Other\n",
       "280885    Anderson Valley  Mendocino/Lake Counties\n",
       "280887        Napa Valley                     Napa\n",
       "\n",
       "[100893 rows x 2 columns]"
      ]
     },
     "execution_count": 13,
     "metadata": {},
     "output_type": "execute_result"
    }
   ],
   "source": [
    "df.loc[(df['region_1']!= df['region_2'] ) & (df['region_2'].notnull()), ['region_1','region_2']]"
   ]
  },
  {
   "cell_type": "markdown",
   "metadata": {},
   "source": [
    "It looks like the values are not the same as region_1, sice it has 100k non null values with different descriptions as region_1"
   ]
  },
  {
   "cell_type": "markdown",
   "metadata": {},
   "source": [
    "##### NaN Price rows "
   ]
  },
  {
   "cell_type": "code",
   "execution_count": 16,
   "metadata": {},
   "outputs": [
    {
     "data": {
      "text/plain": [
       "22691"
      ]
     },
     "execution_count": 16,
     "metadata": {},
     "output_type": "execute_result"
    }
   ],
   "source": [
    "df.price.isna().sum()"
   ]
  },
  {
   "cell_type": "code",
   "execution_count": 20,
   "metadata": {},
   "outputs": [
    {
     "data": {
      "text/html": [
       "<div>\n",
       "<style scoped>\n",
       "    .dataframe tbody tr th:only-of-type {\n",
       "        vertical-align: middle;\n",
       "    }\n",
       "\n",
       "    .dataframe tbody tr th {\n",
       "        vertical-align: top;\n",
       "    }\n",
       "\n",
       "    .dataframe thead th {\n",
       "        text-align: right;\n",
       "    }\n",
       "</style>\n",
       "<table border=\"1\" class=\"dataframe\">\n",
       "  <thead>\n",
       "    <tr style=\"text-align: right;\">\n",
       "      <th></th>\n",
       "      <th>country</th>\n",
       "      <th>description</th>\n",
       "      <th>designation</th>\n",
       "      <th>points</th>\n",
       "      <th>price</th>\n",
       "      <th>province</th>\n",
       "      <th>region_1</th>\n",
       "      <th>region_2</th>\n",
       "      <th>taster_name</th>\n",
       "      <th>taster_twitter_handle</th>\n",
       "      <th>title</th>\n",
       "      <th>variety</th>\n",
       "      <th>winery</th>\n",
       "    </tr>\n",
       "  </thead>\n",
       "  <tbody>\n",
       "    <tr>\n",
       "      <th>179214</th>\n",
       "      <td>Italy</td>\n",
       "      <td>Brambly notes that recall forest berry and wil...</td>\n",
       "      <td>La Solista</td>\n",
       "      <td>87</td>\n",
       "      <td>NaN</td>\n",
       "      <td>Piedmont</td>\n",
       "      <td>Barbera d'Asti</td>\n",
       "      <td>None</td>\n",
       "      <td>None</td>\n",
       "      <td>None</td>\n",
       "      <td>None</td>\n",
       "      <td>Barbera</td>\n",
       "      <td>Caudrina</td>\n",
       "    </tr>\n",
       "    <tr>\n",
       "      <th>160364</th>\n",
       "      <td>Austria</td>\n",
       "      <td>There is such pure fruit in this crisp, clean ...</td>\n",
       "      <td>Weissenkirchner Steinriegel Smaragd</td>\n",
       "      <td>92</td>\n",
       "      <td>NaN</td>\n",
       "      <td>Wachau</td>\n",
       "      <td>None</td>\n",
       "      <td>None</td>\n",
       "      <td>None</td>\n",
       "      <td>None</td>\n",
       "      <td>None</td>\n",
       "      <td>Grüner Veltliner</td>\n",
       "      <td>Tegernseerhof</td>\n",
       "    </tr>\n",
       "    <tr>\n",
       "      <th>23500</th>\n",
       "      <td>Australia</td>\n",
       "      <td>At around $20 per bottle, this is a solid Pino...</td>\n",
       "      <td>MWC</td>\n",
       "      <td>90</td>\n",
       "      <td>NaN</td>\n",
       "      <td>Victoria</td>\n",
       "      <td>Victoria</td>\n",
       "      <td>None</td>\n",
       "      <td>Joe Czerwinski</td>\n",
       "      <td>@JoeCz</td>\n",
       "      <td>McPherson Wine Company 2014 MWC Pinot Noir (Vi...</td>\n",
       "      <td>Pinot Noir</td>\n",
       "      <td>McPherson Wine Company</td>\n",
       "    </tr>\n",
       "    <tr>\n",
       "      <th>240679</th>\n",
       "      <td>France</td>\n",
       "      <td>The richest wine in the Pellé range, full of s...</td>\n",
       "      <td>Les Blanchais</td>\n",
       "      <td>91</td>\n",
       "      <td>NaN</td>\n",
       "      <td>Loire Valley</td>\n",
       "      <td>Menetou-Salon</td>\n",
       "      <td>None</td>\n",
       "      <td>None</td>\n",
       "      <td>None</td>\n",
       "      <td>None</td>\n",
       "      <td>Sauvignon Blanc</td>\n",
       "      <td>Domaine Henry Pellé</td>\n",
       "    </tr>\n",
       "    <tr>\n",
       "      <th>20461</th>\n",
       "      <td>France</td>\n",
       "      <td>Crisp and full of raspberry and red currant fr...</td>\n",
       "      <td>Rosenc</td>\n",
       "      <td>85</td>\n",
       "      <td>NaN</td>\n",
       "      <td>Southwest France</td>\n",
       "      <td>Fronton</td>\n",
       "      <td>None</td>\n",
       "      <td>Roger Voss</td>\n",
       "      <td>@vossroger</td>\n",
       "      <td>Château Bouissel 2014 Rosenc Rosé (Fronton)</td>\n",
       "      <td>Rosé</td>\n",
       "      <td>Château Bouissel</td>\n",
       "    </tr>\n",
       "  </tbody>\n",
       "</table>\n",
       "</div>"
      ],
      "text/plain": [
       "          country                                        description  \\\n",
       "179214      Italy  Brambly notes that recall forest berry and wil...   \n",
       "160364    Austria  There is such pure fruit in this crisp, clean ...   \n",
       "23500   Australia  At around $20 per bottle, this is a solid Pino...   \n",
       "240679     France  The richest wine in the Pellé range, full of s...   \n",
       "20461      France  Crisp and full of raspberry and red currant fr...   \n",
       "\n",
       "                                designation  points  price          province  \\\n",
       "179214                           La Solista      87    NaN          Piedmont   \n",
       "160364  Weissenkirchner Steinriegel Smaragd      92    NaN            Wachau   \n",
       "23500                                   MWC      90    NaN          Victoria   \n",
       "240679                        Les Blanchais      91    NaN      Loire Valley   \n",
       "20461                                Rosenc      85    NaN  Southwest France   \n",
       "\n",
       "              region_1 region_2     taster_name taster_twitter_handle  \\\n",
       "179214  Barbera d'Asti     None            None                  None   \n",
       "160364            None     None            None                  None   \n",
       "23500         Victoria     None  Joe Czerwinski                @JoeCz   \n",
       "240679   Menetou-Salon     None            None                  None   \n",
       "20461          Fronton     None      Roger Voss            @vossroger   \n",
       "\n",
       "                                                    title           variety  \\\n",
       "179214                                               None           Barbera   \n",
       "160364                                               None  Grüner Veltliner   \n",
       "23500   McPherson Wine Company 2014 MWC Pinot Noir (Vi...        Pinot Noir   \n",
       "240679                                               None   Sauvignon Blanc   \n",
       "20461         Château Bouissel 2014 Rosenc Rosé (Fronton)              Rosé   \n",
       "\n",
       "                        winery  \n",
       "179214                Caudrina  \n",
       "160364           Tegernseerhof  \n",
       "23500   McPherson Wine Company  \n",
       "240679     Domaine Henry Pellé  \n",
       "20461         Château Bouissel  "
      ]
     },
     "execution_count": 20,
     "metadata": {},
     "output_type": "execute_result"
    }
   ],
   "source": [
    "df_temp = df[df['price'].isna()]\n",
    "df_temp.sample(5)"
   ]
  },
  {
   "cell_type": "code",
   "execution_count": 17,
   "metadata": {},
   "outputs": [
    {
     "name": "stdout",
     "output_type": "stream",
     "text": [
      "Column name: country has 0.02% of NaN values\n",
      "Column name: description has 0.0% of NaN values\n",
      "Column name: designation has 26.93% of NaN values\n",
      "Column name: points has 0.0% of NaN values\n",
      "Column name: price has 100.0% of NaN values\n",
      "Column name: province has 0.02% of NaN values\n",
      "Column name: region_1 has 17.14% of NaN values\n",
      "Column name: region_2 has 97.94% of NaN values\n",
      "Column name: taster_name has 68.06% of NaN values\n",
      "Column name: taster_twitter_handle has 68.27% of NaN values\n",
      "Column name: title has 60.35% of NaN values\n",
      "Column name: variety has 0.0% of NaN values\n",
      "Column name: winery has 0.0% of NaN values\n"
     ]
    }
   ],
   "source": [
    "for column in df.columns:\n",
    "    nan_rows = round((df_temp[column].isna().sum()/df_temp.shape[0])*100,2).astype(str)+'%' # type: ignore\n",
    "    print(f\"Column name: {column} has {nan_rows} of NaN values\")"
   ]
  },
  {
   "cell_type": "markdown",
   "metadata": {},
   "source": [
    "Looking for the rows that has no price, we have all of them with variety, winery and points value. In that case we could estimate the price based on [Winery, Variet, and Points values]. Its a guarantee that we can use all of the 22k rows with null prices "
   ]
  },
  {
   "cell_type": "markdown",
   "metadata": {},
   "source": [
    "##### Title NaN rows"
   ]
  },
  {
   "cell_type": "code",
   "execution_count": 21,
   "metadata": {},
   "outputs": [
    {
     "data": {
      "text/plain": [
       "150930"
      ]
     },
     "execution_count": 21,
     "metadata": {},
     "output_type": "execute_result"
    }
   ],
   "source": [
    "df.title.isna().sum()"
   ]
  },
  {
   "cell_type": "code",
   "execution_count": 22,
   "metadata": {},
   "outputs": [
    {
     "data": {
      "text/html": [
       "<div>\n",
       "<style scoped>\n",
       "    .dataframe tbody tr th:only-of-type {\n",
       "        vertical-align: middle;\n",
       "    }\n",
       "\n",
       "    .dataframe tbody tr th {\n",
       "        vertical-align: top;\n",
       "    }\n",
       "\n",
       "    .dataframe thead th {\n",
       "        text-align: right;\n",
       "    }\n",
       "</style>\n",
       "<table border=\"1\" class=\"dataframe\">\n",
       "  <thead>\n",
       "    <tr style=\"text-align: right;\">\n",
       "      <th></th>\n",
       "      <th>country</th>\n",
       "      <th>description</th>\n",
       "      <th>designation</th>\n",
       "      <th>points</th>\n",
       "      <th>price</th>\n",
       "      <th>province</th>\n",
       "      <th>region_1</th>\n",
       "      <th>region_2</th>\n",
       "      <th>taster_name</th>\n",
       "      <th>taster_twitter_handle</th>\n",
       "      <th>title</th>\n",
       "      <th>variety</th>\n",
       "      <th>winery</th>\n",
       "    </tr>\n",
       "  </thead>\n",
       "  <tbody>\n",
       "    <tr>\n",
       "      <th>277559</th>\n",
       "      <td>US</td>\n",
       "      <td>This easy, soft Zin gives lots of pleasure. It...</td>\n",
       "      <td>None</td>\n",
       "      <td>86</td>\n",
       "      <td>20.0</td>\n",
       "      <td>California</td>\n",
       "      <td>Redwood Valley</td>\n",
       "      <td>Mendocino/Lake Counties</td>\n",
       "      <td>None</td>\n",
       "      <td>None</td>\n",
       "      <td>None</td>\n",
       "      <td>Zinfandel</td>\n",
       "      <td>Handley</td>\n",
       "    </tr>\n",
       "    <tr>\n",
       "      <th>244539</th>\n",
       "      <td>Germany</td>\n",
       "      <td>On the full-bodied side, but the combined weig...</td>\n",
       "      <td>Berg Schlossberg Auslese</td>\n",
       "      <td>92</td>\n",
       "      <td>95.0</td>\n",
       "      <td>Rheingau</td>\n",
       "      <td>None</td>\n",
       "      <td>None</td>\n",
       "      <td>None</td>\n",
       "      <td>None</td>\n",
       "      <td>None</td>\n",
       "      <td>Riesling</td>\n",
       "      <td>Georg Breuer</td>\n",
       "    </tr>\n",
       "    <tr>\n",
       "      <th>141111</th>\n",
       "      <td>US</td>\n",
       "      <td>This is the most remniscent of Chablis among T...</td>\n",
       "      <td>Brosseau Vineyard</td>\n",
       "      <td>93</td>\n",
       "      <td>39.0</td>\n",
       "      <td>California</td>\n",
       "      <td>Chalone</td>\n",
       "      <td>Central Coast</td>\n",
       "      <td>None</td>\n",
       "      <td>None</td>\n",
       "      <td>None</td>\n",
       "      <td>Chardonnay</td>\n",
       "      <td>Testarossa</td>\n",
       "    </tr>\n",
       "    <tr>\n",
       "      <th>159681</th>\n",
       "      <td>France</td>\n",
       "      <td>Crisp and mineral in character, the wine is fr...</td>\n",
       "      <td>Le Ronté</td>\n",
       "      <td>88</td>\n",
       "      <td>23.0</td>\n",
       "      <td>Burgundy</td>\n",
       "      <td>Mâcon-Fuissé</td>\n",
       "      <td>None</td>\n",
       "      <td>None</td>\n",
       "      <td>None</td>\n",
       "      <td>None</td>\n",
       "      <td>Chardonnay</td>\n",
       "      <td>Domaine La Soufrandise</td>\n",
       "    </tr>\n",
       "    <tr>\n",
       "      <th>140816</th>\n",
       "      <td>US</td>\n",
       "      <td>Dry and crisp in acidity, with a silky texture...</td>\n",
       "      <td>Two Birds Estate</td>\n",
       "      <td>87</td>\n",
       "      <td>68.0</td>\n",
       "      <td>California</td>\n",
       "      <td>Russian River Valley</td>\n",
       "      <td>Sonoma</td>\n",
       "      <td>None</td>\n",
       "      <td>None</td>\n",
       "      <td>None</td>\n",
       "      <td>Pinot Noir</td>\n",
       "      <td>Arista</td>\n",
       "    </tr>\n",
       "  </tbody>\n",
       "</table>\n",
       "</div>"
      ],
      "text/plain": [
       "        country                                        description  \\\n",
       "277559       US  This easy, soft Zin gives lots of pleasure. It...   \n",
       "244539  Germany  On the full-bodied side, but the combined weig...   \n",
       "141111       US  This is the most remniscent of Chablis among T...   \n",
       "159681   France  Crisp and mineral in character, the wine is fr...   \n",
       "140816       US  Dry and crisp in acidity, with a silky texture...   \n",
       "\n",
       "                     designation  points  price    province  \\\n",
       "277559                      None      86   20.0  California   \n",
       "244539  Berg Schlossberg Auslese      92   95.0    Rheingau   \n",
       "141111         Brosseau Vineyard      93   39.0  California   \n",
       "159681                  Le Ronté      88   23.0    Burgundy   \n",
       "140816          Two Birds Estate      87   68.0  California   \n",
       "\n",
       "                    region_1                 region_2 taster_name  \\\n",
       "277559        Redwood Valley  Mendocino/Lake Counties        None   \n",
       "244539                  None                     None        None   \n",
       "141111               Chalone            Central Coast        None   \n",
       "159681          Mâcon-Fuissé                     None        None   \n",
       "140816  Russian River Valley                   Sonoma        None   \n",
       "\n",
       "       taster_twitter_handle title     variety                  winery  \n",
       "277559                  None  None   Zinfandel                 Handley  \n",
       "244539                  None  None    Riesling            Georg Breuer  \n",
       "141111                  None  None  Chardonnay              Testarossa  \n",
       "159681                  None  None  Chardonnay  Domaine La Soufrandise  \n",
       "140816                  None  None  Pinot Noir                  Arista  "
      ]
     },
     "execution_count": 22,
     "metadata": {},
     "output_type": "execute_result"
    }
   ],
   "source": [
    "df_temp = df[df['title'].isna()]\n",
    "df_temp.sample(5)"
   ]
  },
  {
   "cell_type": "code",
   "execution_count": 23,
   "metadata": {},
   "outputs": [
    {
     "name": "stdout",
     "output_type": "stream",
     "text": [
      "Column name: country has 0.0% of NaN values\n",
      "Column name: description has 0.0% of NaN values\n",
      "Column name: designation has 30.3% of NaN values\n",
      "Column name: points has 0.0% of NaN values\n",
      "Column name: price has 9.07% of NaN values\n",
      "Column name: province has 0.0% of NaN values\n",
      "Column name: region_1 has 16.6% of NaN values\n",
      "Column name: region_2 has 59.62% of NaN values\n",
      "Column name: taster_name has 100.0% of NaN values\n",
      "Column name: taster_twitter_handle has 100.0% of NaN values\n",
      "Column name: title has 100.0% of NaN values\n",
      "Column name: variety has 0.0% of NaN values\n",
      "Column name: winery has 0.0% of NaN values\n"
     ]
    }
   ],
   "source": [
    "for column in df.columns:\n",
    "    nan_rows = round((df_temp[column].isna().sum()/df_temp.shape[0])*100,2).astype(str)+'%' # type: ignore\n",
    "    print(f\"Column name: {column} has {nan_rows} of NaN values\")"
   ]
  },
  {
   "cell_type": "markdown",
   "metadata": {},
   "source": [
    "As it has all the taster_name and twitter values NaN, we can assume that most of them came from the 150k dataset. No need for futher investigation"
   ]
  },
  {
   "cell_type": "markdown",
   "metadata": {},
   "source": [
    "#"
   ]
  },
  {
   "cell_type": "markdown",
   "metadata": {},
   "source": [
    "\n",
    "## Tipos dos dados"
   ]
  },
  {
   "cell_type": "code",
   "execution_count": 25,
   "metadata": {},
   "outputs": [
    {
     "name": "stdout",
     "output_type": "stream",
     "text": [
      "<class 'pandas.core.frame.DataFrame'>\n",
      "RangeIndex: 280901 entries, 0 to 280900\n",
      "Data columns (total 13 columns):\n",
      " #   Column                 Non-Null Count   Dtype  \n",
      "---  ------                 --------------   -----  \n",
      " 0   country                280833 non-null  object \n",
      " 1   description            280901 non-null  object \n",
      " 2   designation            197701 non-null  object \n",
      " 3   points                 280901 non-null  int64  \n",
      " 4   price                  258210 non-null  float64\n",
      " 5   province               280833 non-null  object \n",
      " 6   region_1               234594 non-null  object \n",
      " 7   region_2               111464 non-null  object \n",
      " 8   taster_name            103727 non-null  object \n",
      " 9   taster_twitter_handle  98758 non-null   object \n",
      " 10  title                  129971 non-null  object \n",
      " 11  variety                280900 non-null  object \n",
      " 12  winery                 280901 non-null  object \n",
      "dtypes: float64(1), int64(1), object(11)\n",
      "memory usage: 27.9+ MB\n"
     ]
    }
   ],
   "source": [
    "df.info()"
   ]
  },
  {
   "cell_type": "markdown",
   "metadata": {},
   "source": [
    "For me is okay, don't need any other treatment for now. Futher, when doing feature engineering, we'll scale, encode variables and gather information from description"
   ]
  },
  {
   "cell_type": "markdown",
   "metadata": {},
   "source": [
    "## 2 Distribuição dos vinhos com relação a:\n",
    "1. Pontos e Preço - TbD\n",
    "1. País e região - TbD\n",
    "1. Variedade - TbD\n",
    "1. Winery - TbD\n",
    "1. Designation - TbD\n",
    "1. Avaliadores - TbD"
   ]
  },
  {
   "cell_type": "markdown",
   "metadata": {},
   "source": [
    "\n",
    "## Pontos e preços"
   ]
  },
  {
   "cell_type": "code",
   "execution_count": 76,
   "metadata": {},
   "outputs": [
    {
     "data": {
      "text/html": [
       "<div>\n",
       "<style scoped>\n",
       "    .dataframe tbody tr th:only-of-type {\n",
       "        vertical-align: middle;\n",
       "    }\n",
       "\n",
       "    .dataframe tbody tr th {\n",
       "        vertical-align: top;\n",
       "    }\n",
       "\n",
       "    .dataframe thead th {\n",
       "        text-align: right;\n",
       "    }\n",
       "</style>\n",
       "<table border=\"1\" class=\"dataframe\">\n",
       "  <thead>\n",
       "    <tr style=\"text-align: right;\">\n",
       "      <th></th>\n",
       "      <th>points</th>\n",
       "      <th>price</th>\n",
       "    </tr>\n",
       "  </thead>\n",
       "  <tbody>\n",
       "    <tr>\n",
       "      <th>count</th>\n",
       "      <td>280901.000000</td>\n",
       "      <td>258210.000000</td>\n",
       "    </tr>\n",
       "    <tr>\n",
       "      <th>mean</th>\n",
       "      <td>88.146934</td>\n",
       "      <td>34.177162</td>\n",
       "    </tr>\n",
       "    <tr>\n",
       "      <th>std</th>\n",
       "      <td>3.151528</td>\n",
       "      <td>38.611708</td>\n",
       "    </tr>\n",
       "    <tr>\n",
       "      <th>min</th>\n",
       "      <td>80.000000</td>\n",
       "      <td>4.000000</td>\n",
       "    </tr>\n",
       "    <tr>\n",
       "      <th>25%</th>\n",
       "      <td>86.000000</td>\n",
       "      <td>16.000000</td>\n",
       "    </tr>\n",
       "    <tr>\n",
       "      <th>50%</th>\n",
       "      <td>88.000000</td>\n",
       "      <td>25.000000</td>\n",
       "    </tr>\n",
       "    <tr>\n",
       "      <th>75%</th>\n",
       "      <td>90.000000</td>\n",
       "      <td>40.000000</td>\n",
       "    </tr>\n",
       "    <tr>\n",
       "      <th>max</th>\n",
       "      <td>100.000000</td>\n",
       "      <td>3300.000000</td>\n",
       "    </tr>\n",
       "  </tbody>\n",
       "</table>\n",
       "</div>"
      ],
      "text/plain": [
       "              points          price\n",
       "count  280901.000000  258210.000000\n",
       "mean       88.146934      34.177162\n",
       "std         3.151528      38.611708\n",
       "min        80.000000       4.000000\n",
       "25%        86.000000      16.000000\n",
       "50%        88.000000      25.000000\n",
       "75%        90.000000      40.000000\n",
       "max       100.000000    3300.000000"
      ]
     },
     "execution_count": 76,
     "metadata": {},
     "output_type": "execute_result"
    }
   ],
   "source": [
    "#Olhando a distribuição das duas variáveis numéricas que temos disponíveis\n",
    "df.describe()"
   ]
  },
  {
   "cell_type": "markdown",
   "metadata": {},
   "source": [
    "* Valores de pontos distribuiídos entre 80 e 100, com pequena variação\n",
    "* Preços possuem maior variação e uma grande diferença entre a média e valor máximo (possível incidência de outliers)"
   ]
  },
  {
   "cell_type": "markdown",
   "metadata": {},
   "source": [
    "### Distribuição dos pontos"
   ]
  },
  {
   "cell_type": "markdown",
   "metadata": {},
   "source": [
    "* Olhar para as distribuição dos pontos, quartis e quantidades"
   ]
  },
  {
   "cell_type": "code",
   "execution_count": 119,
   "metadata": {},
   "outputs": [],
   "source": []
  },
  {
   "cell_type": "code",
   "execution_count": 132,
   "metadata": {},
   "outputs": [
    {
     "data": {
      "image/png": "[encoded data removed]",
      "text/plain": [
       "<Figure size 1296x432 with 3 Axes>"
      ]
     },
     "metadata": {},
     "output_type": "display_data"
    }
   ],
   "source": [
    "\n",
    "# Calcular a soma acumulada\n",
    "cum_sum = df.groupby('points').agg(frequency = ('points', 'count')).reset_index()\n",
    "total = cum_sum.frequency.sum()\n",
    "cum_sum['cumulative_sum'] = round((cum_sum['frequency'].cumsum()/len(df))*100,2)\n",
    "\n",
    "\n",
    "#Plotagem\n",
    "fig, axes = plt.subplots(nrows = 1, ncols = 3, figsize= (18,6))\n",
    "\n",
    "#Primeiro plot - histograma de pontos\n",
    "sns.countplot(data = df, x = 'points', palette = 'ocean', ax = axes[0])\n",
    "axes[0].set_title('Distribuição de pontos')\n",
    "axes[0].set_xlabel('Pontos')\n",
    "axes[0].set_ylabel('Contagem')\n",
    "plt.tight_layout()\n",
    "\n",
    "#Segundo plot - Preços vs nota\n",
    "axes[1].scatter(data = df.sort_values(by='points', ascending=True), x = range(df.shape[0]) , y = 'points',color = 'darkblue')\n",
    "axes[1].set_title('Distribuição cumulativa de pontos')\n",
    "axes[1].set_xlabel('# Observações')\n",
    "axes[1].set_ylabel('Pontos')\n",
    "\n",
    "# Terceiro plot\n",
    "axes[2].scatter(data = cum_sum, x = 'points', y= 'cumulative_sum', color = 'darkblue')\n",
    "axes[2].set_title('Distribuição cumulativa de pontos')\n",
    "axes[2].set_xlabel('Pontos')\n",
    "axes[2].set_ylabel('% Acumulado')\n",
    "plt.tight_layout()\n",
    "plt.show()"
   ]
  },
  {
   "cell_type": "code",
   "execution_count": null,
   "metadata": {},
   "outputs": [],
   "source": []
  },
  {
   "cell_type": "code",
   "execution_count": null,
   "metadata": {},
   "outputs": [],
   "source": []
  },
  {
   "cell_type": "code",
   "execution_count": null,
   "metadata": {},
   "outputs": [],
   "source": []
  },
  {
   "cell_type": "code",
   "execution_count": null,
   "metadata": {},
   "outputs": [],
   "source": []
  },
  {
   "cell_type": "code",
   "execution_count": null,
   "metadata": {},
   "outputs": [],
   "source": []
  },
  {
   "cell_type": "code",
   "execution_count": null,
   "metadata": {},
   "outputs": [],
   "source": []
  },
  {
   "cell_type": "code",
   "execution_count": null,
   "metadata": {},
   "outputs": [],
   "source": []
  },
  {
   "cell_type": "markdown",
   "metadata": {},
   "source": [
    "### Variedade"
   ]
  },
  {
   "cell_type": "markdown",
   "metadata": {},
   "source": [
    "* Olhar para distribuição de vinhos com maiores frequencias\n",
    "* Distribuição dos vinhos mais avaliados\n",
    "* Distribuição dos pontos distribuidos ao longo das variedades"
   ]
  },
  {
   "cell_type": "code",
   "execution_count": 66,
   "metadata": {},
   "outputs": [],
   "source": [
    "count = df.groupby('variety').agg(count_column=('variety', 'count')).reset_index().sort_values(by = 'count_column', ascending= False)[:20]"
   ]
  },
  {
   "cell_type": "code",
   "execution_count": 67,
   "metadata": {},
   "outputs": [
    {
     "data": {
      "text/html": [
       "<div>\n",
       "<style scoped>\n",
       "    .dataframe tbody tr th:only-of-type {\n",
       "        vertical-align: middle;\n",
       "    }\n",
       "\n",
       "    .dataframe tbody tr th {\n",
       "        vertical-align: top;\n",
       "    }\n",
       "\n",
       "    .dataframe thead th {\n",
       "        text-align: right;\n",
       "    }\n",
       "</style>\n",
       "<table border=\"1\" class=\"dataframe\">\n",
       "  <thead>\n",
       "    <tr style=\"text-align: right;\">\n",
       "      <th></th>\n",
       "      <th>variety</th>\n",
       "      <th>count_column</th>\n",
       "    </tr>\n",
       "  </thead>\n",
       "  <tbody>\n",
       "    <tr>\n",
       "      <th>476</th>\n",
       "      <td>Pinot Noir</td>\n",
       "      <td>27563</td>\n",
       "    </tr>\n",
       "    <tr>\n",
       "      <th>132</th>\n",
       "      <td>Chardonnay</td>\n",
       "      <td>26235</td>\n",
       "    </tr>\n",
       "    <tr>\n",
       "      <th>84</th>\n",
       "      <td>Cabernet Sauvignon</td>\n",
       "      <td>22272</td>\n",
       "    </tr>\n",
       "    <tr>\n",
       "      <th>510</th>\n",
       "      <td>Red Blend</td>\n",
       "      <td>19008</td>\n",
       "    </tr>\n",
       "    <tr>\n",
       "      <th>64</th>\n",
       "      <td>Bordeaux-style Red Blend</td>\n",
       "      <td>14262</td>\n",
       "    </tr>\n",
       "    <tr>\n",
       "      <th>553</th>\n",
       "      <td>Sauvignon Blanc</td>\n",
       "      <td>11287</td>\n",
       "    </tr>\n",
       "    <tr>\n",
       "      <th>516</th>\n",
       "      <td>Riesling</td>\n",
       "      <td>10713</td>\n",
       "    </tr>\n",
       "    <tr>\n",
       "      <th>604</th>\n",
       "      <td>Syrah</td>\n",
       "      <td>9967</td>\n",
       "    </tr>\n",
       "    <tr>\n",
       "      <th>350</th>\n",
       "      <td>Merlot</td>\n",
       "      <td>8172</td>\n",
       "    </tr>\n",
       "    <tr>\n",
       "      <th>751</th>\n",
       "      <td>Zinfandel</td>\n",
       "      <td>6513</td>\n",
       "    </tr>\n",
       "    <tr>\n",
       "      <th>529</th>\n",
       "      <td>Rosé</td>\n",
       "      <td>6381</td>\n",
       "    </tr>\n",
       "    <tr>\n",
       "      <th>544</th>\n",
       "      <td>Sangiovese</td>\n",
       "      <td>6052</td>\n",
       "    </tr>\n",
       "    <tr>\n",
       "      <th>299</th>\n",
       "      <td>Malbec</td>\n",
       "      <td>5860</td>\n",
       "    </tr>\n",
       "    <tr>\n",
       "      <th>739</th>\n",
       "      <td>White Blend</td>\n",
       "      <td>5184</td>\n",
       "    </tr>\n",
       "    <tr>\n",
       "      <th>411</th>\n",
       "      <td>Nebbiolo</td>\n",
       "      <td>5045</td>\n",
       "    </tr>\n",
       "    <tr>\n",
       "      <th>486</th>\n",
       "      <td>Portuguese Red</td>\n",
       "      <td>4682</td>\n",
       "    </tr>\n",
       "    <tr>\n",
       "      <th>629</th>\n",
       "      <td>Tempranillo</td>\n",
       "      <td>4366</td>\n",
       "    </tr>\n",
       "    <tr>\n",
       "      <th>595</th>\n",
       "      <td>Sparkling Blend</td>\n",
       "      <td>4157</td>\n",
       "    </tr>\n",
       "    <tr>\n",
       "      <th>512</th>\n",
       "      <td>Rhône-style Red Blend</td>\n",
       "      <td>2976</td>\n",
       "    </tr>\n",
       "    <tr>\n",
       "      <th>472</th>\n",
       "      <td>Pinot Gris</td>\n",
       "      <td>2820</td>\n",
       "    </tr>\n",
       "  </tbody>\n",
       "</table>\n",
       "</div>"
      ],
      "text/plain": [
       "                      variety  count_column\n",
       "476                Pinot Noir         27563\n",
       "132                Chardonnay         26235\n",
       "84         Cabernet Sauvignon         22272\n",
       "510                 Red Blend         19008\n",
       "64   Bordeaux-style Red Blend         14262\n",
       "553           Sauvignon Blanc         11287\n",
       "516                  Riesling         10713\n",
       "604                     Syrah          9967\n",
       "350                    Merlot          8172\n",
       "751                 Zinfandel          6513\n",
       "529                      Rosé          6381\n",
       "544                Sangiovese          6052\n",
       "299                    Malbec          5860\n",
       "739               White Blend          5184\n",
       "411                  Nebbiolo          5045\n",
       "486            Portuguese Red          4682\n",
       "629               Tempranillo          4366\n",
       "595           Sparkling Blend          4157\n",
       "512     Rhône-style Red Blend          2976\n",
       "472                Pinot Gris          2820"
      ]
     },
     "execution_count": 67,
     "metadata": {},
     "output_type": "execute_result"
    }
   ],
   "source": [
    "count"
   ]
  },
  {
   "cell_type": "code",
   "execution_count": 74,
   "metadata": {},
   "outputs": [
    {
     "data": {
      "image/png": "[encoded data removed]",
      "text/plain": [
       "<Figure size 864x432 with 1 Axes>"
      ]
     },
     "metadata": {},
     "output_type": "display_data"
    }
   ],
   "source": [
    "\n",
    "plt.figure(figsize=(12,6))\n",
    "plt.title('Distribuição das 20 variedades mais frequentes de vinho')\n",
    "sns.barplot(data = count, x = 'count_column', y = 'variety', palette = 'Pastel1', orient = 'h')\n",
    "plt.xlabel('Contagem')\n",
    "plt.ylabel('Variedade');\n"
   ]
  },
  {
   "cell_type": "markdown",
   "metadata": {},
   "source": [
    "Vinho uva pinot noir é a uva mais vezes avaliada, sendo ela uma uva tinta"
   ]
  },
  {
   "cell_type": "markdown",
   "metadata": {},
   "source": []
  }
 ],
 "metadata": {
  "kernelspec": {
   "display_name": "base",
   "language": "python",
   "name": "python3"
  },
  "language_info": {
   "codemirror_mode": {
    "name": "ipython",
    "version": 3
   },
   "file_extension": ".py",
   "mimetype": "text/x-python",
   "name": "python",
   "nbconvert_exporter": "python",
   "pygments_lexer": "ipython3",
   "version": "3.9.12"
  },
  "orig_nbformat": 4
 },
 "nbformat": 4,
 "nbformat_minor": 2
}
